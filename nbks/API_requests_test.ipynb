{
 "cells": [
  {
   "cell_type": "code",
   "execution_count": 1,
   "id": "426f5069-6b68-4f72-824e-5960cb8f3903",
   "metadata": {},
   "outputs": [],
   "source": [
    "import dask.dataframe as dd\n",
    "import json \n",
    "import requests"
   ]
  },
  {
   "cell_type": "code",
   "execution_count": 2,
   "id": "c05ca22e-5648-4acd-8896-18a6e9c52e22",
   "metadata": {},
   "outputs": [],
   "source": [
    "data = dd.read_csv('../assets/raw_data.csv')"
   ]
  },
  {
   "cell_type": "code",
   "execution_count": 3,
   "id": "946ec12e-f6f9-4eed-b47d-b754d1bc31f3",
   "metadata": {},
   "outputs": [
    {
     "name": "stderr",
     "output_type": "stream",
     "text": [
      "C:\\Users\\JeanCarlosMaia\\anaconda3\\envs\\python39\\lib\\site-packages\\dask\\dataframe\\core.py:1611: UserWarning: sample does not support the number of sampled items parameter, 'n'. Please use the 'frac' parameter instead.\n",
      "  warnings.warn(msg)\n"
     ]
    }
   ],
   "source": [
    "samples = data.sample(0.001).compute()"
   ]
  },
  {
   "cell_type": "code",
   "execution_count": 4,
   "id": "6a804c02-29aa-4c2e-a9ef-afa2e2ebf6e8",
   "metadata": {},
   "outputs": [],
   "source": [
    "def dict_response(list_val):\n",
    "    return {'zero': list_val[0],\n",
    "            'one': list_val[1],\n",
    "            'two': list_val[2],\n",
    "            'three': list_val[3],\n",
    "            'four': list_val[4],\n",
    "            'five': list_val[5],\n",
    "            'six': list_val[6],\n",
    "            'seven': list_val[7],\n",
    "            'eight': list_val[8],\n",
    "            'nine': list_val[9],\n",
    "            'ten': list_val[10],\n",
    "            'eleven': list_val[11],\n",
    "            'twelve': list_val[12],\n",
    "            'thirteen': list_val[13],\n",
    "            'fourteen': list_val[14],\n",
    "            'fifteen': list_val[15],\n",
    "            'sixteen': list_val[16],\n",
    "            'seventeen': list_val[17],\n",
    "            'eighteen': list_val[18],\n",
    "            'nineteen': list_val[19],\n",
    "            'twenty': list_val[20],\n",
    "            'twentyone': list_val[21],\n",
    "            'twentytwo': list_val[22],\n",
    "            'twentythree': list_val[23],\n",
    "            'twentyfour': list_val[24],\n",
    "            'twentyfive': list_val[25],\n",
    "            'twentysix': list_val[26],\n",
    "            'twentyseven': list_val[27] \n",
    "           }\n",
    "\n",
    "\n",
    "request = dict_response(samples.iloc[0].values)"
   ]
  },
  {
   "cell_type": "code",
   "execution_count": 5,
   "id": "ccea32d0-c6c8-4e8e-bed7-f51619230cd8",
   "metadata": {},
   "outputs": [
    {
     "name": "stdout",
     "output_type": "stream",
     "text": [
      "<Response [200]>\n"
     ]
    }
   ],
   "source": [
    "print(requests.get('http://localhost:8008/health'))"
   ]
  },
  {
   "cell_type": "code",
   "execution_count": 9,
   "id": "33794d24-a49c-4057-acbb-23c6740c1869",
   "metadata": {},
   "outputs": [
    {
     "name": "stdout",
     "output_type": "stream",
     "text": [
      "{\"proba_0\":0.6010341644287109,\"proba_1\":0.39896583557128906,\"recommended_threshold\":0.4}\n"
     ]
    }
   ],
   "source": [
    "r = requests.post('http://localhost:8008/predict', data=json.dumps(request))\n",
    "print(r.text)"
   ]
  },
  {
   "cell_type": "code",
   "execution_count": null,
   "id": "6c9c7b20-b122-4f8d-9bfd-598bc59854dc",
   "metadata": {},
   "outputs": [],
   "source": []
  }
 ],
 "metadata": {
  "kernelspec": {
   "display_name": "Python 3 (ipykernel)",
   "language": "python",
   "name": "python3"
  },
  "language_info": {
   "codemirror_mode": {
    "name": "ipython",
    "version": 3
   },
   "file_extension": ".py",
   "mimetype": "text/x-python",
   "name": "python",
   "nbconvert_exporter": "python",
   "pygments_lexer": "ipython3",
   "version": "3.9.7"
  }
 },
 "nbformat": 4,
 "nbformat_minor": 5
}
